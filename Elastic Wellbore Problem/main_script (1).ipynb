{
 "cells": [
  {
   "cell_type": "code",
   "execution_count": null,
   "id": "590e6a60-72a9-4a18-8386-f0e45b39ff9c",
   "metadata": {},
   "outputs": [],
   "source": [
    "#-----------------------------------------------------------------------------------\n",
    "# This script solves the quasi-static equation of solid equilibrium \"Navier's Eq.\"\n",
    "# with the Finite Element Method through Fenicsx open-source simulator. This simulation \n",
    "# is two-dimensional plane-strain.Tensile stress is positive.\n",
    "#-----------------------------------------------------------------------------------\n",
    "\n",
    "#-----------------------------------------------------------------------------------\n",
    "# Workflow: Gmsh meshing software --> Fenicsx simulator --> Paraview visualization\n",
    "#-----------------------------------------------------------------------------------\n",
    "\n",
    "#-----------------------------------------------------------------------------------\n",
    "# Wellbore stability analysis\n",
    "#-----------------------------------------------------------------------------------"
   ]
  },
  {
   "cell_type": "markdown",
   "id": "cf4d3ddc-0d8a-4a59-8171-77569adcd368",
   "metadata": {},
   "source": [
    "![WorkFlow](Workflow.jpeg)\n",
    "Source: https://computationalmechanics.in/fenics-the-mesh-workflow/"
   ]
  },
  {
   "cell_type": "code",
   "execution_count": 1,
   "id": "84f957dc-de94-4db7-9e6b-38c6f939491f",
   "metadata": {},
   "outputs": [
    {
     "name": "stderr",
     "output_type": "stream",
     "text": [
      "Warning : Unknown entity of dimension 1 and tag 1 in physical group 1\n",
      "Warning : Unknown entity of dimension 1 and tag 2 in physical group 2\n",
      "Warning : Unknown entity of dimension 1 and tag 4 in physical group 3\n",
      "Warning : Unknown entity of dimension 1 and tag 3 in physical group 4\n",
      "Warning : Unknown entity of dimension 1 and tag 2 in physical group 5\n",
      "Warning : Unknown entity of dimension 2 and tag 1 in physical group 6\n"
     ]
    },
    {
     "name": "stdout",
     "output_type": "stream",
     "text": [
      "Info    : Meshing 1D...\n",
      "Info    : [  0%] Meshing curve 1 (Line)\n",
      "Info    : [ 20%] Meshing curve 2 (Line)\n",
      "Info    : [ 40%] Meshing curve 3 (Line)\n",
      "Info    : [ 50%] Meshing curve 4 (Line)\n",
      "Info    : [ 70%] Meshing curve 5 (Circle)\n",
      "Info    : [ 90%] Meshing curve 6 (Circle)\n",
      "Info    : Done meshing 1D (Wall 0.00119475s, CPU 0.001899s)\n",
      "Info    : Meshing 2D...\n",
      "Info    : Meshing surface 1 (Plane, Frontal-Delaunay)\n",
      "Info    : Done meshing 2D (Wall 0.0595126s, CPU 0.059686s)\n",
      "Info    : 1011 nodes 2027 elements\n"
     ]
    }
   ],
   "source": [
    "# Mesh from Gmsh\n",
    "#-----------------------------------------------------------------------------------\n",
    "from mesh_creation import Gmsh_model # Import meshing function\n",
    "ms,ms_w,xl,yl,dw = 0.75, 0.01, 10, 10, 0.2032 # mesh size at corners [m], well mesh size [m], x-length [m], y-length [m], wellbore diameter [m]\n",
    "model,gdim = Gmsh_model(ms,ms_w,xl,yl,dw) # Call meshing function\n",
    "from mesh_conversion import msh_to_xdmf # Import conversion function\n",
    "mesh = msh_to_xdmf(model, gdim) # Fenicsx equivalent mesh --> check XDMF folder for mesh"
   ]
  },
  {
   "cell_type": "code",
   "execution_count": null,
   "id": "58217c7a-b255-4ebd-8f21-806ea9427176",
   "metadata": {},
   "outputs": [],
   "source": [
    "# Import several Fenicsx/dolfinx packages\n",
    "#-----------------------------------------------------------------------------------\n",
    "from dolfinx import plot, io\n",
    "from dolfinx.fem import (dirichletbc, Expression, Function, FunctionSpace, \n",
    "                         VectorFunctionSpace, TensorFunctionSpace, locate_dofs_topological, Constant)\n",
    "from dolfinx.fem.petsc import LinearProblem, NonlinearProblem\n",
    "from dolfinx.nls.petsc import NewtonSolver\n",
    "from dolfinx.mesh import locate_entities_boundary, locate_entities, meshtags\n",
    "from ufl import (TestFunction, TrialFunction, dot, dx, grad, inner, nabla_div, div, Identity, sym, Measure,\n",
    "                 SpatialCoordinate, lhs, rhs, as_vector, tr, FiniteElement, VectorElement, MixedElement, \n",
    "                 split, FacetNormal, TensorElement, as_matrix, as_tensor, atan_2, cos, sin)\n",
    "from petsc4py.PETSc import ScalarType, Options\n",
    "import numpy as np\n",
    "import dolfinx\n",
    "from mpi4py import MPI"
   ]
  },
  {
   "cell_type": "code",
   "execution_count": null,
   "id": "8575bafc-39f0-416e-b9af-9271e9d24a13",
   "metadata": {},
   "outputs": [],
   "source": [
    "# Independent elastic constants\n",
    "#-----------------------------------------------------------------------------------\n",
    "E = 10e9 # Young's modulus [Pa]\n",
    "nu = 0.30 # Poisson's ratio [-]\n",
    "\n",
    "# Dependent elastic constants\n",
    "#-----------------------------------------------------------------------------------\n",
    "lambda_ = E*nu/((1+nu)*(1-2*nu)) # Lame parameter [Pa]\n",
    "mu = E/(2*(1+nu)) # Shear modulus [Pa]\n",
    "model = \"plane_strain\"\n",
    "if model == \"plane_stress\":\n",
    "    lambda_ = 2*mu*lambda_/(lambda_+2*mu) # Lame parameter for plane-stress elasticity [Pa]"
   ]
  },
  {
   "cell_type": "code",
   "execution_count": null,
   "id": "a050501a-deb0-49e0-8f2a-cbfad616a419",
   "metadata": {},
   "outputs": [],
   "source": [
    "# FEM space\n",
    "#-----------------------------------------------------------------------------------\n",
    "disp = VectorElement(\"CG\", mesh.ufl_cell(), 2) # Vector piecewise quadratic Lagrange element\n",
    "scalar = FiniteElement(\"CG\", mesh.ufl_cell(), 2) # Scalar piecewise quadratic Lagrange element\n",
    "ten = TensorElement(\"CG\", mesh.ufl_cell(), 2) # Tensor piecewise quadratic Lagrange element\n",
    "V0 = FunctionSpace(mesh,disp) # Vector function space\n",
    "S = FunctionSpace(mesh, ten) # Tensor function space\n",
    "C = FunctionSpace(mesh, scalar) # Scalar function space"
   ]
  },
  {
   "cell_type": "code",
   "execution_count": null,
   "id": "40c79f60-197e-4e10-b770-d112c6f0ca74",
   "metadata": {},
   "outputs": [],
   "source": [
    "# Define inital stress and wellbore pressure\n",
    "#-----------------------------------------------------------------------------------\n",
    "Sxx = -10.0e6 # Total maximum horizontal stress [Pa]\n",
    "Syy = -10.0e6 # Total minimum horizontal stress [Pa]\n",
    "Pw = -1.0e6 # Wellbore pressure [Pa]\n",
    "\n",
    "# Remember compressive stress is negative!"
   ]
  },
  {
   "cell_type": "code",
   "execution_count": null,
   "id": "b560391a-ba2b-4fcd-9f31-ff1f2d155be5",
   "metadata": {},
   "outputs": [],
   "source": [
    "# Stress and strain definition\n",
    "#-----------------------------------------------------------------------------------\n",
    "def epsilon(u):\n",
    "    return sym(grad(u)) # Strain = 0.5*(grad(u) + grad(u).T)\n",
    "def sigma(u):\n",
    "    return lambda_*nabla_div(u)*Identity(u.geometric_dimension()) + 2*mu*epsilon(u) # Stress tensor\n",
    "def epsilon_v(u):\n",
    "    return nabla_div(u) # Volumetric strain = tr(epsilon)"
   ]
  },
  {
   "cell_type": "code",
   "execution_count": null,
   "id": "1d7759a0-7198-46f4-abd3-d62b909b2ced",
   "metadata": {},
   "outputs": [],
   "source": [
    "# Trial and test \"virtual\" displacement operators\n",
    "#-----------------------------------------------------------------------------------\n",
    "u = TrialFunction(V0)\n",
    "v = TestFunction(V0)"
   ]
  },
  {
   "cell_type": "code",
   "execution_count": null,
   "id": "34ee3a94-1c36-455b-add0-8aae23a14afe",
   "metadata": {},
   "outputs": [],
   "source": [
    "# Bilinear form\n",
    "#-----------------------------------------------------------------------------------\n",
    "a = inner(sigma(u),epsilon(v))*dx # a*u=L"
   ]
  },
  {
   "cell_type": "code",
   "execution_count": null,
   "id": "14c6031e-7cf6-41ab-8b13-5a9e5feca194",
   "metadata": {},
   "outputs": [],
   "source": [
    "# Boundary conditions\n",
    "#-----------------------------------------------------------------------------------\n",
    "x = SpatialCoordinate(mesh) # Locate x,y coordinates of elements\n",
    "n = FacetNormal(mesh) # normal direction to elements\n",
    "theta = atan_2(x[1],x[0]) # Radial coordinate \"theta\"\n",
    "rotate_1 = as_tensor([[cos(theta), sin(theta), 0], # Rotation matrix cartesion --> radial\n",
    "                      [-sin(theta), cos(theta), 0],\n",
    "                      [0,0,0]])\n",
    "rotate_2 = as_tensor([[cos(theta), -sin(theta), 0], # Rotation matrix cartesion --> radial\n",
    "                      [sin(theta), cos(theta), 0],\n",
    "                      [0,0,0]])\n",
    "\n",
    "# Boundry marker: 1=left, 2=base, 3=right, 4=top, 5=well\n",
    "boundaries = [(1,lambda x: np.isclose(x[0], -xl/2)),\n",
    "                  (2,lambda x: np.isclose(x[1], -yl/2)),\n",
    "                  (3,lambda x: np.isclose(x[0], xl/2)),\n",
    "                  (4,lambda x: np.isclose(x[1], yl/2)),\n",
    "                  (5,lambda x: np.isclose(np.sqrt(x[0]**2 + x[1]**2),dw/2))] # pick out the left, bottom, right, top, and wellbore boundary DOFs"
   ]
  },
  {
   "cell_type": "code",
   "execution_count": null,
   "id": "5b1ee97b-8fbb-42fa-ac02-3f70ebc4bc4e",
   "metadata": {},
   "outputs": [],
   "source": [
    "# Locate degrees of freedom for all boundaries\n",
    "#-----------------------------------------------------------------------------------\n",
    "facet_indices, facet_markers = [], []\n",
    "fdim = mesh.topology.dim - 1\n",
    "for (marker, locator) in boundaries:\n",
    "    facets = locate_entities(mesh, fdim, locator)\n",
    "    facet_indices.append(facets)\n",
    "    facet_markers.append(np.full(len(facets), marker))\n",
    "facet_indices = np.array(np.hstack(facet_indices), dtype=np.int32)\n",
    "facet_markers = np.array(np.hstack(facet_markers), dtype=np.int32)\n",
    "sorted_facets = np.argsort(facet_indices)\n",
    "facet_tag = meshtags(mesh, fdim, facet_indices[sorted_facets], facet_markers[sorted_facets])\n",
    "\n",
    "ds = Measure(\"ds\", domain=mesh, subdomain_data=facet_tag) # External integration measure"
   ]
  },
  {
   "cell_type": "code",
   "execution_count": null,
   "id": "dad9d82a-665e-4407-915e-590e20b8b82e",
   "metadata": {},
   "outputs": [],
   "source": [
    "# Apply boundary conditions\n",
    "#-----------------------------------------------------------------------------------\n",
    "class BoundaryCondition():\n",
    "    def __init__(self, type, marker, values, ind_1):\n",
    "        self._type = type\n",
    "        if type == \"Dirichlet\":\n",
    "            u_D = values\n",
    "            facets = np.array(facet_tag.indices[facet_tag.values == marker])\n",
    "            dofs = locate_dofs_topological(V0.sub(ind_1), fdim, facets)\n",
    "            self._bc = dirichletbc(u_D, dofs, V0.sub(ind_1))\n",
    "        elif type == \"Neumann\":\n",
    "            self._bc = values*inner(n, v) * ds(marker)\n",
    "        else:\n",
    "            raise TypeError(\"Unknown boundary condition: {0:s}\".format(type))\n",
    "    @property\n",
    "    def bc(self):\n",
    "        return self._bc\n",
    "\n",
    "    @property\n",
    "    def type(self):\n",
    "        return self._type\n",
    "\n",
    "#-----------------------------------------------------------------------------------\n",
    "# Boundry marker: 1=left, 2=base, 3=right, 4=top, 5=well\n",
    "# Example entry: BoundaryCondition(type, Marker, value, ind_1)\n",
    "# 1. Type is either \"Dirichlet\" or \"Neumann\".\n",
    "# 2. Marker is either 1,2,3,4 or 5 depending on the boundary.\n",
    "# 3.ind_1=0 for x-value, ind_2=2 for y_value, or ind_2=3 for z-value.\n",
    "#-----------------------------------------------------------------------------------\n",
    "\n",
    "boundary_conditions = [BoundaryCondition(\"Dirichlet\", 1, ScalarType(0), 0),\n",
    "                           BoundaryCondition(\"Dirichlet\", 2, ScalarType(0), 1),\n",
    "                           BoundaryCondition(\"Neumann\", 3, ScalarType(Sxx), 0),\n",
    "                           BoundaryCondition(\"Neumann\", 4, ScalarType(Syy), 1),\n",
    "                           BoundaryCondition(\"Neumann\", 5, ScalarType(Pw), 0)]\n",
    "\n",
    "bcs = []\n",
    "f = Constant(mesh, ScalarType((0, 0, 0)))\n",
    "L = dot(f, v) * dx\n",
    "for condition in boundary_conditions:\n",
    "    if condition.type == \"Dirichlet\":\n",
    "        bcs.append(condition.bc)\n",
    "    else:\n",
    "        L += condition.bc"
   ]
  },
  {
   "cell_type": "code",
   "execution_count": null,
   "id": "41578c75-def9-4620-9dba-b8f080ede97f",
   "metadata": {},
   "outputs": [],
   "source": [
    "# Transient solution\n",
    "#-----------------------------------------------------------------------------------\n",
    "file = io.XDMFFile(mesh.comm, \"XDMF/Solution_.xdmf\", \"w\") # Output file --> visualize in Paraview\n",
    "file.write_mesh(mesh) # Attach mesh to the file\n",
    "\n",
    "problem = LinearProblem(a, L, bcs=bcs, petsc_options={\"ksp_type\": \"preonly\", \"pc_type\": \"lu\"}) # Define the problem\n",
    "uh = problem.solve() # Solve for displacements\n",
    "uh.name = \"Displacement\"\n",
    "\n",
    "# Output stress and stain --> visualize in Paraview\n",
    "expr_1 = Expression(sigma(uh), S.element.interpolation_points)\n",
    "stress = Function(S)\n",
    "stress.interpolate(expr_1)\n",
    "stress.name = \"Cartesian Stress Tensor\"\n",
    "    \n",
    "expr_2 = Expression(epsilon(uh), S.element.interpolation_points)\n",
    "strain = Function(S)\n",
    "strain.interpolate(expr_2)\n",
    "strain.name = \"Cartesian Strain Tensor\"\n",
    "    \n",
    "expr_3 = Expression(epsilon_v(uh), C.element.interpolation_points)\n",
    "strain_v = Function(C)\n",
    "strain_v.interpolate(expr_3)\n",
    "strain_v.name = \"Volumetric Strain\"\n",
    "    \n",
    "expr_4 = Expression(rotate_1*sigma(uh)*rotate_2, S.element.interpolation_points)\n",
    "stress_r = Function(S)\n",
    "stress_r.interpolate(expr_4)\n",
    "stress_r.name = \"Polar Stress Tensor\"\n",
    "    \n",
    "expr_5 = Expression(rotate_1*epsilon(uh)*rotate_2, S.element.interpolation_points)\n",
    "strain_r = Function(S)\n",
    "strain_r.interpolate(expr_5)\n",
    "strain_r.name = \"Polar Strain Tensor\"\n",
    "    \n",
    "# Write all of the above to output file\n",
    "file.write_function(uh)\n",
    "file.write_function(stress)\n",
    "file.write_function(strain)\n",
    "file.write_function(strain_v)\n",
    "file.write_function(stress_r)\n",
    "file.write_function(strain_r)\n",
    "file.close()"
   ]
  },
  {
   "cell_type": "code",
   "execution_count": null,
   "id": "384fc528-b243-4fa6-ab83-d11477411b96",
   "metadata": {},
   "outputs": [],
   "source": []
  }
 ],
 "metadata": {
  "kernelspec": {
   "display_name": "Python 3 (ipykernel)",
   "language": "python",
   "name": "python3"
  },
  "language_info": {
   "codemirror_mode": {
    "name": "ipython",
    "version": 3
   },
   "file_extension": ".py",
   "mimetype": "text/x-python",
   "name": "python",
   "nbconvert_exporter": "python",
   "pygments_lexer": "ipython3",
   "version": "3.9.7"
  }
 },
 "nbformat": 4,
 "nbformat_minor": 5
}
