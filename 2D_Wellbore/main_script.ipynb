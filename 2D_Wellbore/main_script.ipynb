{
 "cells": [
  {
   "cell_type": "code",
   "execution_count": 23,
   "id": "0db60eda-368f-4bc2-a494-3a4458ace314",
   "metadata": {
    "jp-MarkdownHeadingCollapsed": true,
    "tags": []
   },
   "outputs": [
    {
     "name": "stdout",
     "output_type": "stream",
     "text": [
      "Info    : Meshing 1D...\n",
      "Info    : [  0%] Meshing curve 1 (Line)\n",
      "Info    : [ 20%] Meshing curve 2 (Line)\n",
      "Info    : [ 40%] Meshing curve 3 (Line)\n",
      "Info    : [ 50%] Meshing curve 4 (Line)\n",
      "Info    : [ 70%] Meshing curve 5 (Circle)\n",
      "Info    : [ 90%] Meshing curve 6 (Circle)\n",
      "Info    : Done meshing 1D (Wall 0.00083691s, CPU 0.001029s)\n",
      "Info    : Meshing 2D...\n",
      "Info    : Meshing surface 1 (Plane, Frontal-Delaunay)\n",
      "Info    : Done meshing 2D (Wall 0.0378307s, CPU 0.038365s)\n",
      "Info    : 1113 nodes 2231 elements\n"
     ]
    },
    {
     "name": "stderr",
     "output_type": "stream",
     "text": [
      "Warning : Unknown entity of dimension 1 and tag 1 in physical group 1\n",
      "Warning : Unknown entity of dimension 1 and tag 2 in physical group 2\n",
      "Warning : Unknown entity of dimension 1 and tag 4 in physical group 3\n",
      "Warning : Unknown entity of dimension 1 and tag 3 in physical group 4\n",
      "Warning : Unknown entity of dimension 1 and tag 2 in physical group 5\n",
      "Warning : Unknown entity of dimension 2 and tag 1 in physical group 6\n"
     ]
    },
    {
     "data": {
      "application/vnd.jupyter.widget-view+json": {
       "model_id": "bcac6c78e2c240c98c4b7499117d6985",
       "version_major": 2,
       "version_minor": 0
      },
      "text/plain": [
       "Renderer(camera=PerspectiveCamera(aspect=1.3333333333333333, children=(DirectionalLight(intensity=0.25, positi…"
      ]
     },
     "metadata": {},
     "output_type": "display_data"
    }
   ],
   "source": [
    "#-------------------------------------\n",
    "# This script solves the plane-strain problem\n",
    "# of a wellbore in a poroelastic medium\n",
    "# Units: stress-Pa, length-m, time-sec.\n",
    "# Sign convention: compressive stress & contraction strain are positive\n",
    "#-------------------------------------\n",
    "\n",
    "# Mesh from Gmsh\n",
    "#-------------------------------------\n",
    "from mesh_creation import Gmsh_model\n",
    "ms,ms_w,xl,yl,dw = 3.5, 0.015, 25, 25, 0.2032 # mesh size at corners [m], well mesh size [m], x-half-length [m], y-half-length [m], wellbore diameter [m]\n",
    "model,gdim = Gmsh_model(ms,ms_w,xl,yl,dw)\n",
    "from mesh_conversion import msh_to_xdmf\n",
    "mesh,cell_tags = msh_to_xdmf(model, gdim) \n",
    "from inline_plot import plot_mesh\n",
    "plot_mesh(mesh, cell_tags)\n",
    "\n",
    "# Import several Fenicsx/dolfinx packages\n",
    "#-------------------------------------\n",
    "from dolfinx import plot, io\n",
    "from dolfinx.fem import (dirichletbc, Expression, Function, FunctionSpace, \n",
    "                         VectorFunctionSpace, TensorFunctionSpace, locate_dofs_topological, Constant)\n",
    "from dolfinx.fem.petsc import LinearProblem, NonlinearProblem\n",
    "from dolfinx.nls.petsc import NewtonSolver\n",
    "from dolfinx.mesh import locate_entities_boundary, locate_entities, meshtags\n",
    "from ufl import (TestFunction, TrialFunction, dot, dx, grad, inner, nabla_div, div, Identity, sym, Measure,\n",
    "                 SpatialCoordinate, lhs, rhs, as_vector, tr, FiniteElement, VectorElement, MixedElement, \n",
    "                 split, FacetNormal, TensorElement, as_matrix, as_tensor, atan_2, cos, sin)\n",
    "from petsc4py.PETSc import ScalarType, Options\n",
    "import numpy as np\n",
    "import dolfinx\n",
    "from mpi4py import MPI"
   ]
  },
  {
   "cell_type": "code",
   "execution_count": 24,
   "id": "1615dba6-6834-48f9-99dc-fba277e44b8c",
   "metadata": {
    "tags": []
   },
   "outputs": [],
   "source": [
    "# Time stepping properties (Euler method)\n",
    "#-------------------------------------\n",
    "t = 0.0 # initialize time [s]\n",
    "tmax = 86400 # 1 day = 86,400 seconds (units of time are seconds!)\n",
    "num_steps = 25 # number of steps\n",
    "dt = tmax/num_steps # time increment"
   ]
  },
  {
   "cell_type": "code",
   "execution_count": 25,
   "id": "2c770847-4946-4650-a8bf-cd79f0248875",
   "metadata": {
    "tags": []
   },
   "outputs": [],
   "source": [
    "# Defined poroelastic constants\n",
    "#-------------------------------------\n",
    "E = 10e9 # Young's modulus [Pa]\n",
    "nu = 0.22 # Poisson's ratio [-]\n",
    "phi = 0.2 # Porosity [-]\n",
    "k_ = 1e-16 # permeability [m^2]\n",
    "mu_ = 1e-3 # Viscosity [Pa*s]\n",
    "Ks = 37e9 # Solid bulk modulus [Pa]\n",
    "Kf = 2.15e9 # Fluid bulk modulus [Pa]"
   ]
  },
  {
   "cell_type": "code",
   "execution_count": 26,
   "id": "0a97ac80-f788-48d8-bb1e-ca33eddb875a",
   "metadata": {
    "tags": []
   },
   "outputs": [],
   "source": [
    "# Derived poroelastic constants\n",
    "#-------------------------------------\n",
    "lambda_ = E*nu/((1+nu)*(1-2*nu)) # Lame parameter [Pa]\n",
    "mu = E/(2*(1+nu)) # Shear modulus [Pa]\n",
    "model = \"plane_strain\"\n",
    "if model == \"plane_stress\":\n",
    "    lambda_ = 2*mu*lambda_/(lambda_+2*mu) # Lame parameter for plane-stress elasticity [Pa]\n",
    "kappa = k_/mu_ # Bulk fluid mobility [m^2/Pa/s]\n",
    "Km = E/(3*(1-2*nu)) # Drained bulk modulus [Pa]\n",
    "alpha = 1-Km/Ks # Biot coefficient [-]\n",
    "M = (phi/Kf + (alpha-phi)/Ks)**(-1) # Biot modulus [Pa]\n",
    "Ku = Km + alpha**2 * M # Undrained bulk modulus [Pa]\n",
    "nu_u = (3*Ku-2*mu)/(2*(3*Ku+mu)) # Undrained Poisson's ratio [-]"
   ]
  },
  {
   "cell_type": "code",
   "execution_count": 27,
   "id": "e6ea7cab-be51-43d3-8449-c671f6d5bf30",
   "metadata": {
    "tags": []
   },
   "outputs": [],
   "source": [
    "# FEM space\n",
    "#-------------------------------------\n",
    "disp = VectorElement(\"CG\", mesh.ufl_cell(), 2) # Vector piecewise quadratic Lagrange element for u=(u,v)\n",
    "pres = FiniteElement(\"CG\", mesh.ufl_cell(), 1) # Scalar piecewise linear Lagrange element for p\n",
    "ten = TensorElement(\"CG\", mesh.ufl_cell(), 2) # Tensor piecewise quadratic Lagrange element for S=(Sxx, Sxy, Sxz,\n",
    "#                                                                                                  Syx, Syy, Syx,\n",
    "#                                                                                                  Szx, Szy, Szz)\n",
    "V0 = MixedElement([disp, pres]) # Solution vector is ordered sol=(u,v,p)\n",
    "V0 = FunctionSpace(mesh,V0) # Mixed function space\n",
    "S = FunctionSpace(mesh, ten) # Tensor function space\n",
    "C = FunctionSpace(mesh, pres) # Scalar function space"
   ]
  },
  {
   "cell_type": "code",
   "execution_count": 28,
   "id": "d0886a23-6ece-423a-9e3d-77cbbf3f6bc9",
   "metadata": {
    "tags": []
   },
   "outputs": [],
   "source": [
    "# In-situ stress (stress IC *NOT* displacement IC)\n",
    "# This is added to the stress tensor\n",
    "# See Coussy,2004 Poromechanics text:\n",
    "# sigma - sigma_i = C:eps - alpha*(p-p_i)\n",
    "# Hence, this is NOT a body force but rater an IC\n",
    "#-------------------------------------\n",
    "Sv = 35e6 # Total vertical stress [Pa]\n",
    "SHmax = 29e6 # Total maximum horizontal stress [Pa]\n",
    "Shmin = 21e6 # Total minimum horizontal stress [Pa]\n",
    "Pp = 15e6 # Pore pressure [Pa]\n",
    "Pw = 20e6 # Wellbore pressure [Pa]\n",
    "\n",
    "Sxx_i = Constant(mesh,Shmin) # x-dir ---> direction of Shmin\n",
    "Sxy_i = Constant(mesh,0.0) # No initial shear stress\n",
    "Syy_i = Constant(mesh,SHmax) # y-dir ---> direction of Shmax\n",
    "p_i = Constant(mesh,Pp) # Initial pore pressure\n",
    "IC = as_tensor([[Sxx_i, Sxy_i],[Sxy_i, Syy_i]]) # 2D initial stress tensor for S=(Sxx, Sxy,\n",
    "#                                                                                 Syx, Syy)"
   ]
  },
  {
   "cell_type": "code",
   "execution_count": 29,
   "id": "defdf504-95e0-483f-9a75-cfe6276ad414",
   "metadata": {
    "tags": []
   },
   "outputs": [],
   "source": [
    "# Stress and strain definition\n",
    "#-------------------------------------\n",
    "def epsilon(u):\n",
    "    e = sym(grad(u)) # Strain = 0.5*(grad(u) + grad(u).T)\n",
    "    return as_tensor([[e[0, 0], e[0, 1]],\n",
    "                      [e[0, 1], e[1, 1]]])\n",
    "def sigma(u,p):\n",
    "    sig = -lambda_*nabla_div(u)*Identity(u.geometric_dimension()) - 2*mu*epsilon(u) + alpha*(p-p_i)*Identity(u.geometric_dimension()) # Total stress tensor\n",
    "    return as_tensor([[sig[0, 0], sig[0, 1]],\n",
    "                      [sig[0, 1], sig[1, 1]]]) + IC\n",
    "def sigma_eff(u,p):\n",
    "    sig_e = -lambda_*nabla_div(u)*Identity(u.geometric_dimension()) - 2*mu*epsilon(u) + alpha*(p-p_i)*Identity(u.geometric_dimension()) - p*Identity(u.geometric_dimension()) # Effective stress tensor\n",
    "    return as_tensor([[sig_e[0, 0], sig_e[0, 1]],\n",
    "                      [sig_e[0, 1], sig_e[1, 1]]]) + IC\n",
    "def epsilon_v(u):\n",
    "    return nabla_div(u) # Volumetric strain"
   ]
  },
  {
   "cell_type": "code",
   "execution_count": 30,
   "id": "bcaa9612-9dbc-4fae-a34c-11552300dd8a",
   "metadata": {
    "tags": []
   },
   "outputs": [],
   "source": [
    "# Split mixed FEM space\n",
    "#-------------------------------------\n",
    "V = TestFunction(V0) # Test function of mixed element space\n",
    "del_u, del_p = split(V) # Test variables for disp. and pressure\n",
    "\n",
    "# We now need a way to keep track of current and previous solutions\n",
    "# to discretize time derivatives in fluid mass balance\n",
    "\n",
    "wk1 = Function(V0) # Current solution vector\n",
    "wk = Function(V0) # Previous solutiun vector\n",
    "\n",
    "uk1, pk1 = split(wk1) # Split into seperate variables\n",
    "uk, pk, = split(wk) # Split into seperate variables"
   ]
  },
  {
   "cell_type": "code",
   "execution_count": 31,
   "id": "0006d845-67d2-4f06-a8cf-b3ce9b283b93",
   "metadata": {
    "tags": []
   },
   "outputs": [],
   "source": [
    "# Initial Conditions --> displacement and pressure *ONLY*\n",
    "# Remember, stress is already initialized\n",
    "# But, initial pore pressure must be defined\n",
    "#-------------------------------------\n",
    "wk1.x.array[:] = 0.0 # Initialize 1st time step\n",
    "wk1.sub(0).sub(0).interpolate(lambda x: np.zeros(x.shape[1])) # Access to x-displacement IC\n",
    "wk1.sub(0).sub(1).interpolate(lambda x: np.zeros(x.shape[1])) # Access to y-displacement IC\n",
    "wk1.sub(1).interpolate(lambda x: Pp*np.ones(x.shape[1])) # Access to pressure IC\n",
    "wk1.x.scatter_forward()"
   ]
  },
  {
   "cell_type": "code",
   "execution_count": 32,
   "id": "5f36b83b-951b-456b-a31c-70b172adb7cc",
   "metadata": {
    "tags": []
   },
   "outputs": [],
   "source": [
    "# Solve linear variational problem\n",
    "#-------------------------------------\n",
    "F = kappa*dot(grad(pk1),grad(del_p))*dx + alpha*((nabla_div(uk1)-nabla_div(uk))/dt)*del_p*dx + alpha**2/(Ku-Km)*(pk1-pk)/dt*del_p*dx + inner(sigma(uk1,pk1),epsilon(del_u))*dx # Residual"
   ]
  },
  {
   "cell_type": "code",
   "execution_count": 33,
   "id": "ca80c1e4-0f1a-4754-852e-3b0b730240dc",
   "metadata": {
    "tags": []
   },
   "outputs": [],
   "source": [
    "# Boundary conditions\n",
    "#-------------------------------------\n",
    "x = SpatialCoordinate(mesh) # Locate x,y coordinates of elements\n",
    "n = -FacetNormal(mesh) # normal direction to elements\n",
    "norm = as_vector([n[0], n[1]]) # This is needed for Neumann BCs\n",
    "theta = atan_2(x[1],x[0]) # Radial coordinate \"theta\"\n",
    "rotate_1 = as_tensor([[cos(theta), sin(theta)], # Rotation matrix cartesion --> radial\n",
    "                      [-sin(theta), cos(theta)]])\n",
    "rotate_2 = as_tensor([[cos(theta), -sin(theta)], # Rotation matrix cartesion --> radial\n",
    "                      [sin(theta), cos(theta)]])"
   ]
  },
  {
   "cell_type": "code",
   "execution_count": 34,
   "id": "189a7d3b-273b-4a64-b4e7-0a68a6a6b747",
   "metadata": {
    "tags": []
   },
   "outputs": [
    {
     "name": "stdout",
     "output_type": "stream",
     "text": [
      "Step 1: num iterations: 2\n",
      "Step 2: num iterations: 2\n",
      "Step 3: num iterations: 2\n",
      "Step 4: num iterations: 2\n",
      "Step 5: num iterations: 2\n",
      "Step 6: num iterations: 2\n",
      "Step 7: num iterations: 2\n",
      "Step 8: num iterations: 2\n",
      "Step 9: num iterations: 2\n",
      "Step 10: num iterations: 2\n",
      "Step 11: num iterations: 2\n",
      "Step 12: num iterations: 2\n",
      "Step 13: num iterations: 2\n",
      "Step 14: num iterations: 2\n",
      "Step 15: num iterations: 2\n",
      "Step 16: num iterations: 2\n",
      "Step 17: num iterations: 2\n",
      "Step 18: num iterations: 2\n",
      "Step 19: num iterations: 2\n",
      "Step 20: num iterations: 2\n",
      "Step 21: num iterations: 2\n",
      "Step 22: num iterations: 2\n",
      "Step 23: num iterations: 2\n",
      "Step 24: num iterations: 2\n",
      "Step 25: num iterations: 2\n"
     ]
    }
   ],
   "source": [
    "boundaries = [(1,lambda x: np.isclose(x[0], -xl)),\n",
    "                  (2,lambda x: np.isclose(x[1], -yl)),\n",
    "                  (3,lambda x: np.isclose(x[0], xl)),\n",
    "                  (4,lambda x: np.isclose(x[1], yl)),\n",
    "                  (5,lambda x: np.isclose(np.sqrt(x[0]**2 + x[1]**2),dw/2))] # pick out the left, bottom, right, top, and wellbore boundary DOFs\n",
    "\n",
    "facet_indices, facet_markers = [], []\n",
    "fdim = mesh.topology.dim - 1\n",
    "for (marker, locator) in boundaries:\n",
    "    facets = locate_entities(mesh, fdim, locator)\n",
    "    facet_indices.append(facets)\n",
    "    facet_markers.append(np.full(len(facets), marker))\n",
    "facet_indices = np.array(np.hstack(facet_indices), dtype=np.int32)\n",
    "facet_markers = np.array(np.hstack(facet_markers), dtype=np.int32)\n",
    "sorted_facets = np.argsort(facet_indices)\n",
    "facet_tag = meshtags(mesh, fdim, facet_indices[sorted_facets], facet_markers[sorted_facets])\n",
    "\n",
    "ds = Measure(\"ds\", domain=mesh, subdomain_data=facet_tag) # Integration measure\n",
    "\n",
    "class BoundaryCondition():\n",
    "    def __init__(self, type, marker, values, ind_1, ind_2):\n",
    "        self._type = type\n",
    "        if type == \"Dirichlet\":\n",
    "            u_D = values\n",
    "            facets = np.array(facet_tag.indices[facet_tag.values == marker])\n",
    "            if ind_1 == 0:\n",
    "                dofs = locate_dofs_topological(V0.sub(ind_1).sub(ind_2), fdim, facets)\n",
    "                self._bc = dirichletbc(u_D, dofs, V0.sub(ind_1).sub(ind_2))\n",
    "            else:\n",
    "                dofs = locate_dofs_topological(V0.sub(ind_1), fdim, facets)\n",
    "                self._bc = dirichletbc(u_D, dofs, V0.sub(ind_1))\n",
    "        elif type == \"Neumann\":\n",
    "            if ind_1 == 0:\n",
    "                self._bc = values*inner(norm, del_u) * ds(marker)\n",
    "            else:\n",
    "                self._bc = inner(values, del_p) * ds(marker)\n",
    "        else:\n",
    "            raise TypeError(\"Unknown boundary condition: {0:s}\".format(type))\n",
    "    @property\n",
    "    def bc(self):\n",
    "        return self._bc\n",
    "\n",
    "    @property\n",
    "    def type(self):\n",
    "        return self._type\n",
    "\n",
    "# Fixed displacement along outer boundaries\n",
    "# Mechanical load (from drilling fluid) along wellbore\n",
    "# Constant pore pressure along wellbore\n",
    "# Constant (initial) pore pressure along outer boundaries\n",
    "# Could change last BC to zero flux for shales\n",
    "\n",
    "boundary_conditions = [BoundaryCondition(\"Dirichlet\", 1, ScalarType(0), 0, 0),\n",
    "                           BoundaryCondition(\"Dirichlet\", 2, ScalarType(0), 0, 1),\n",
    "                           BoundaryCondition(\"Dirichlet\", 3, ScalarType(0), 0, 0),\n",
    "                           BoundaryCondition(\"Dirichlet\", 4, ScalarType(0), 0, 1),\n",
    "                           BoundaryCondition(\"Neumann\", 5, ScalarType(Pw), 0,0),\n",
    "                           BoundaryCondition(\"Dirichlet\", 5, ScalarType(Pw), 1, 0),\n",
    "                           BoundaryCondition(\"Dirichlet\", 1, ScalarType(Pp), 1, 0),\n",
    "                           BoundaryCondition(\"Dirichlet\", 2, ScalarType(Pp), 1, 0),\n",
    "                           BoundaryCondition(\"Dirichlet\", 3, ScalarType(Pp), 1, 0),\n",
    "                           BoundaryCondition(\"Dirichlet\", 4, ScalarType(Pp), 1, 0)]\n",
    "\n",
    "bcs = []\n",
    "for condition in boundary_conditions:\n",
    "    if condition.type == \"Dirichlet\":\n",
    "        bcs.append(condition.bc)\n",
    "    else:\n",
    "        F += condition.bc\n",
    "\n",
    "\n",
    "# Transient solution\n",
    "#-------------------------------------\n",
    "file = io.XDMFFile(mesh.comm, \"Solution.xdmf\", \"w\") # Output file --> visualize in Paraview\n",
    "file.write_mesh(mesh) # Attach mesh to the file\n",
    "\n",
    "uk1_sol = wk1.sub(0) # Current displacement solution vector --> t = k+1\n",
    "pk1_sol = wk1.sub(1) # Current pressure solution vector --> t = k+1\n",
    "\n",
    "uk1_sol.name = \"Displacement\"\n",
    "pk1_sol.name = \"Pore Pressure\"\n",
    "\n",
    "wk.x.array[:] = wk1.x.array # Initialize previous solution\n",
    "\n",
    "problem = NonlinearProblem(F, wk1, bcs) # Newton iteration in Dolfinx requires nonlinear problem\n",
    "solver = NewtonSolver(mesh.comm, problem) # Newton method\n",
    "solver.convergence_criterion = \"incremental\" # Use either \"incremental\" or \"residual\"\n",
    "solver.rtol = 1e-11 # Relative tolerance\n",
    "solver.report = True # Output solver report\n",
    "solver.max_it = 50 # Stop if no solution within 50 iterations\n",
    "\n",
    "ksp = solver.krylov_solver\n",
    "opts = Options()\n",
    "option_prefix = ksp.getOptionsPrefix()\n",
    "opts[f\"{option_prefix}ksp_type\"] = \"preonly\"\n",
    "opts[f\"{option_prefix}pc_type\"] = \"lu\"\n",
    "opts[f\"{option_prefix}pc_factor_mat_solver_type\"] = \"mumps\"\n",
    "ksp.setFromOptions()\n",
    "        \n",
    "while (t<tmax):\n",
    "    t += dt # Update time\n",
    "    r = solver.solve(wk1) # Solve the problem!\n",
    "    \n",
    "    print(f\"Step {int(t/dt)}: num iterations: {r[0]}\")\n",
    "    \n",
    "    u_sol,p_sol = split(wk1) # Nodal solution at t = k+1\n",
    "    \n",
    "    # Output stress and stain --> visualize in Paraview\n",
    "    expr_1 = Expression(sigma(u_sol,p_sol), S.element.interpolation_points)\n",
    "    stress = Function(S)\n",
    "    stress.interpolate(expr_1)\n",
    "    stress.name = \"Total Stress\"\n",
    "    \n",
    "    expr_2 = Expression(sigma_eff(u_sol,p_sol), S.element.interpolation_points)\n",
    "    stress_eff = Function(S)\n",
    "    stress_eff.interpolate(expr_2)\n",
    "    stress_eff.name = \"Effective Stress\"\n",
    "    \n",
    "    expr_3 = Expression(epsilon(u_sol), S.element.interpolation_points)\n",
    "    strain = Function(S)\n",
    "    strain.interpolate(expr_3)\n",
    "    strain.name = \"Strain\"\n",
    "    \n",
    "    expr_4 = Expression(epsilon_v(u_sol), C.element.interpolation_points)\n",
    "    strain_v = Function(C)\n",
    "    strain_v.interpolate(expr_4)\n",
    "    strain_v.name = \"Volumetric Strain\"\n",
    "    \n",
    "    expr_5 = Expression(rotate_1*sigma(u_sol,p_sol)*rotate_2, S.element.interpolation_points)\n",
    "    stress_r = Function(S)\n",
    "    stress_r.interpolate(expr_5)\n",
    "    stress_r.name = \"Polar Total Stress\"\n",
    "    \n",
    "    expr_6 = Expression(rotate_1*epsilon(u_sol)*rotate_2, S.element.interpolation_points)\n",
    "    strain_r = Function(S)\n",
    "    strain_r.interpolate(expr_6)\n",
    "    strain_r.name = \"Polar Strain\"\n",
    "    \n",
    "    # Write all of the above to output file\n",
    "    file.write_function(uk1_sol,t)\n",
    "    file.write_function(pk1_sol,t)\n",
    "    file.write_function(stress,t)\n",
    "    file.write_function(stress_eff,t)\n",
    "    file.write_function(strain,t)\n",
    "    file.write_function(strain_v,t)\n",
    "    file.write_function(stress_r,t)\n",
    "    file.write_function(strain_r,t)\n",
    "    \n",
    "    wk.x.array[:] = wk1.x.array # Update previous solution with current solution\n",
    "file.close()"
   ]
  },
  {
   "cell_type": "code",
   "execution_count": null,
   "id": "f92d3cd6-03dd-49ce-b612-c5b7b31eedc3",
   "metadata": {},
   "outputs": [],
   "source": []
  }
 ],
 "metadata": {
  "kernelspec": {
   "display_name": "Python 3 (ipykernel)",
   "language": "python",
   "name": "python3"
  },
  "language_info": {
   "codemirror_mode": {
    "name": "ipython",
    "version": 3
   },
   "file_extension": ".py",
   "mimetype": "text/x-python",
   "name": "python",
   "nbconvert_exporter": "python",
   "pygments_lexer": "ipython3",
   "version": "3.10.4"
  }
 },
 "nbformat": 4,
 "nbformat_minor": 5
}
